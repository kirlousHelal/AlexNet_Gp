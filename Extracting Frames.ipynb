{
 "cells": [
  {
   "cell_type": "code",
   "execution_count": 4,
   "id": "bf833c42-fcff-4b55-ac05-fc02e51c8ef4",
   "metadata": {
    "execution": {
     "iopub.execute_input": "2023-11-29T16:14:10.155320Z",
     "iopub.status.busy": "2023-11-29T16:14:10.154321Z",
     "iopub.status.idle": "2023-11-29T16:14:10.204153Z",
     "shell.execute_reply": "2023-11-29T16:14:10.204007Z",
     "shell.execute_reply.started": "2023-11-29T16:14:10.155320Z"
    },
    "tags": []
   },
   "outputs": [
    {
     "name": "stdout",
     "output_type": "stream",
     "text": [
      "Frames extracted: 46 / 46\n"
     ]
    }
   ],
   "source": [
    "import cv2\n",
    "import os\n",
    "\n",
    "def extract_frames(video_path, output_folder, frame_rate=1):\n",
    "    # Open the video file\n",
    "    video_capture = cv2.VideoCapture(video_path)\n",
    "\n",
    "    # Get video properties\n",
    "    fps = int(video_capture.get(cv2.CAP_PROP_FPS))\n",
    "    total_frames = int(video_capture.get(cv2.CAP_PROP_FRAME_COUNT))\n",
    "\n",
    "    # Create the output folder if it doesn't exist\n",
    "    os.makedirs(output_folder, exist_ok=True)\n",
    "\n",
    "    # Loop through frames and save them\n",
    "    frame_count = 0\n",
    "    while True:\n",
    "        ret, frame = video_capture.read()\n",
    "\n",
    "        if not ret:\n",
    "            break\n",
    "\n",
    "        # Save every 'frame_rate' frames\n",
    "        if frame_count % frame_rate == 0:\n",
    "            frame_filename = os.path.join(output_folder, f\"frame_{frame_count // frame_rate}.jpg\")\n",
    "            cv2.imwrite(frame_filename, frame)\n",
    "\n",
    "        frame_count += 1\n",
    "\n",
    "    # Release the video capture object\n",
    "    video_capture.release()\n",
    "\n",
    "    print(f\"Frames extracted: {frame_count // frame_rate} / {total_frames // frame_rate}\")\n",
    "\n",
    "# Example usage\n",
    "video_path = 'D:\\FCIS Seniros - SC/GP - Full Year/EchoDiagram (EchoNet-Dynamic) - DataSet/EchoNet-Dynamic - DataSet/Videos/0X1A0A263B22CCD966.avi'\n",
    "output_folder = 'D:\\FCIS Seniros - SC\\GP - Full Year\\EchoDiagram (EchoNet-Dynamic) - DataSet\\EchoNet-Dynamic - DataSet\\Frames Extraced'\n",
    "frame_rate = 3  # Save every 5th frame\n",
    "\n",
    "extract_frames(video_path, output_folder, frame_rate)\n",
    "\n"
   ]
  },
  {
   "cell_type": "code",
   "execution_count": null,
   "id": "b128d63d-de0e-4c15-9ad4-1261b32fa084",
   "metadata": {},
   "outputs": [],
   "source": []
  }
 ],
 "metadata": {
  "kernelspec": {
   "display_name": "Python 3 (ipykernel)",
   "language": "python",
   "name": "python3"
  },
  "language_info": {
   "codemirror_mode": {
    "name": "ipython",
    "version": 3
   },
   "file_extension": ".py",
   "mimetype": "text/x-python",
   "name": "python",
   "nbconvert_exporter": "python",
   "pygments_lexer": "ipython3",
   "version": "3.10.9"
  }
 },
 "nbformat": 4,
 "nbformat_minor": 5
}
